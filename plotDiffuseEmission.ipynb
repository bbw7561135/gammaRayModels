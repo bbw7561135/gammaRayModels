import matplotlib.pyplot as plt
from matplotlib import rc, rcParams
import numpy as np
import healpy as hp
import pyfits
import os
from scipy.interpolate import InterpolatedUnivariateSpline
from scipy.interpolate import interp1d

windows_l = [0., 10., 20., 30., 40., 50., 60., 90., 120., 150., 180.] #Galactic longitudes of each window; latitude is from -5 to 5
windows_b = [0., 5.]

